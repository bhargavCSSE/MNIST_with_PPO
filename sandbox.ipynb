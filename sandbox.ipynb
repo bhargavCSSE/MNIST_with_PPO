{
 "metadata": {
  "language_info": {
   "codemirror_mode": {
    "name": "ipython",
    "version": 3
   },
   "file_extension": ".py",
   "mimetype": "text/x-python",
   "name": "python",
   "nbconvert_exporter": "python",
   "pygments_lexer": "ipython3",
   "version": "3.8.8-final"
  },
  "orig_nbformat": 2,
  "kernelspec": {
   "name": "python388jvsc74a57bd08c57b6ba3841bda971c23d5d401438b966b90337d3862cc0a8f898cef44092d4",
   "display_name": "Python 3.8.8 64-bit ('mnist_rl': conda)"
  },
  "metadata": {
   "interpreter": {
    "hash": "8c57b6ba3841bda971c23d5d401438b966b90337d3862cc0a8f898cef44092d4"
   }
  }
 },
 "nbformat": 4,
 "nbformat_minor": 2,
 "cells": [
  {
   "cell_type": "code",
   "execution_count": 87,
   "metadata": {},
   "outputs": [],
   "source": [
    "from sklearn.datasets import load_digits\n",
    "from sklearn.model_selection import train_test_split\n",
    "import pandas as pd\n",
    "import matplotlib.pyplot as plt\n",
    "import gym\n",
    "import numpy as np\n",
    "from gym import spaces"
   ]
  },
  {
   "cell_type": "code",
   "execution_count": 88,
   "metadata": {},
   "outputs": [],
   "source": [
    "mnist = load_digits()\n",
    "x = mnist['images']\n",
    "y = mnist['target']\n"
   ]
  },
  {
   "cell_type": "code",
   "execution_count": 89,
   "metadata": {},
   "outputs": [],
   "source": [
    "class MNIST_trainer(gym.Env):\n",
    "    def __init__(self):\n",
    "        super(MNIST_trainer, self).__init__()\n",
    "        \n",
    "        # Environment params\n",
    "        self.action_space = spaces.Discrete(10)\n",
    "        self.observation_space = spaces.Box(low=0, high=255, shape=(8*8, ), dtype=np.int8)\n",
    "\n",
    "        # Environment data\n",
    "        mnist = load_digits()\n",
    "        self.images = mnist['images']\n",
    "        self.labels = mnist['target']\n",
    "        self.images = self.flatten(self.images)\n",
    "        self.images, self.images_test, self.labels, self.labels_test = train_test_split(self.images, self.labels, \n",
    "                                                                                        test_size=0.2, train_size=0.8, \n",
    "                                                                                        shuffle=True)\n",
    "        self.current_state = 0\n",
    "        self.end_state = len(self.labels) - 1\n",
    "\n",
    "    def step(self, action):\n",
    "        reward = 0\n",
    "        done = False\n",
    "        info = \"MNIST-Trainer\"\n",
    "        predicted_label = action\n",
    "        correct_label = self.labels[self.current_state]\n",
    "\n",
    "        if predicted_label == correct_label:\n",
    "            reward = 1\n",
    "        else:\n",
    "            reward = -0.1 \n",
    "        \n",
    "        if self.current_state == self.end_state:\n",
    "            done = True\n",
    "\n",
    "        if done is False:\n",
    "            self.current_state += 1\n",
    "            next_state = self.images[self.current_state]\n",
    "        else:\n",
    "            next_state = -np.inf\n",
    "\n",
    "        return next_state, reward, done, info\n",
    "\n",
    "    def reset(self):\n",
    "        self.current_state = 0\n",
    "        state = self.images[self.current_state]\n",
    "\n",
    "        return state\n",
    "\n",
    "    def render(self, mode='human', close=False):\n",
    "        pass\n",
    "\n",
    "    def flatten(self, images):\n",
    "        flatten_images = []\n",
    "        for i in range(images.shape[0]):\n",
    "            image = np.array(images[i])\n",
    "            flatten_images.append(image.flatten())\n",
    "        return np.array(flatten_images)"
   ]
  },
  {
   "cell_type": "code",
   "execution_count": 90,
   "metadata": {
    "tags": []
   },
   "outputs": [
    {
     "output_type": "execute_result",
     "data": {
      "text/plain": [
       "10"
      ]
     },
     "metadata": {},
     "execution_count": 90
    }
   ],
   "source": [
    "env = MNIST_trainer()\n",
    "done = False\n",
    "score = 0\n",
    "st1 = env.reset()\n",
    "while not done:\n",
    "    st_2, reward, done, info = env.step(0)\n",
    "    score += reward\n",
    "env.action_space.n"
   ]
  }
 ]
}